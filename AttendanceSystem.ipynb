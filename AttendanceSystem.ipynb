{
 "cells": [
  {
   "cell_type": "code",
   "execution_count": 1,
   "id": "bc23f817",
   "metadata": {},
   "outputs": [],
   "source": [
    "import cv2\n",
    "import numpy as np\n",
    "import face_recognition\n",
    "import os\n",
    "from datetime import datetime"
   ]
  },
  {
   "cell_type": "code",
   "execution_count": 2,
   "id": "d029b919",
   "metadata": {},
   "outputs": [
    {
     "name": "stdout",
     "output_type": "stream",
     "text": [
      "['billgates.jpeg', 'elon musk.jpeg', 'ishant.jpg', 'jack.jpeg', 'Sandhya.jpg']\n"
     ]
    }
   ],
   "source": [
    "path = 'ImageAtten'\n",
    "images = []\n",
    "classNames = []\n",
    "myList = os.listdir(path)\n",
    "print(myList)"
   ]
  },
  {
   "cell_type": "code",
   "execution_count": 3,
   "id": "d17e58a8",
   "metadata": {},
   "outputs": [
    {
     "name": "stdout",
     "output_type": "stream",
     "text": [
      "['billgates', 'elon musk', 'ishant', 'jack', 'Sandhya']\n"
     ]
    }
   ],
   "source": [
    "for cl in myList:\n",
    "    currImg = cv2.imread(f'{path}/{cl}')\n",
    "    images.append(currImg)\n",
    "    classNames.append(os.path.splitext(cl)[0])\n",
    "print(classNames)"
   ]
  },
  {
   "cell_type": "code",
   "execution_count": 4,
   "id": "f3378738",
   "metadata": {},
   "outputs": [],
   "source": [
    "def findencodings(images):\n",
    "    encodeList = []\n",
    "    for img in images:\n",
    "        img = cv2.cvtColor(img,cv2.COLOR_BGR2RGB)\n",
    "        encode = face_recognition.face_encodings(img)[0]\n",
    "        encodeList.append(encode)\n",
    "    return encodeList"
   ]
  },
  {
   "cell_type": "code",
   "execution_count": 5,
   "id": "1ecf6c8b",
   "metadata": {},
   "outputs": [
    {
     "name": "stdout",
     "output_type": "stream",
     "text": [
      "encoding complete\n"
     ]
    }
   ],
   "source": [
    "encodelistKnown = findencodings(images)\n",
    "print('encoding complete')"
   ]
  },
  {
   "cell_type": "code",
   "execution_count": 6,
   "id": "63d7683e",
   "metadata": {},
   "outputs": [],
   "source": [
    "def markAttendance(name):\n",
    "    with open('Attendance.csv','r+') as f:\n",
    "        myDataList = f.readlines()\n",
    "        nameList = []\n",
    "        for line in myDataList:\n",
    "            entry = line.split(',')\n",
    "            nameList.append(entry[0])\n",
    "        if name not in nameList:\n",
    "            now = datetime.now()\n",
    "            dtString = now.strftime('%H:%M')\n",
    "            f.writelines(f'\\n{name},{dtString}')\n"
   ]
  },
  {
   "cell_type": "code",
   "execution_count": 7,
   "id": "e344e011",
   "metadata": {},
   "outputs": [],
   "source": [
    "#initialize webcam\n",
    "cap = cv2.VideoCapture(0)"
   ]
  },
  {
   "cell_type": "code",
   "execution_count": null,
   "id": "8ce4d2a7",
   "metadata": {},
   "outputs": [
    {
     "name": "stdout",
     "output_type": "stream",
     "text": [
      "[0.81178153 0.82849176 0.45873881 0.73529425 0.69956415]\n",
      "ISHANT\n",
      "[0.77384748 0.77863615 0.49755704 0.69222859 0.72096771]\n",
      "ISHANT\n",
      "[0.76071439 0.75572312 0.44319898 0.67777844 0.71820742]\n",
      "ISHANT\n",
      "[0.76222836 0.74754497 0.4428834  0.78524501 0.76081856]\n",
      "ISHANT\n",
      "[0.75110193 0.75835511 0.47606677 0.73230766 0.74657157]\n",
      "ISHANT\n",
      "[0.79938514 0.7821474  0.37917422 0.71481484 0.71709307]\n",
      "ISHANT\n",
      "[0.77793228 0.7848832  0.45741961 0.67795107 0.70414934]\n",
      "ISHANT\n",
      "[0.79454853 0.80976726 0.45074107 0.71051725 0.7377879 ]\n",
      "ISHANT\n",
      "[0.80262806 0.8048393  0.44184071 0.71317664 0.75652076]\n",
      "ISHANT\n",
      "[0.75067649 0.76846342 0.35908165 0.69382483 0.66702046]\n",
      "ISHANT\n"
     ]
    }
   ],
   "source": [
    "while True:\n",
    "    success, img = cap.read()\n",
    "    imgS = cv2.resize(img,(0,0),None,0.25,0.25)\n",
    "    imgS = cv2.cvtColor(imgS,cv2.COLOR_BGR2RGB)\n",
    "    \n",
    "    facesCurrFrames = face_recognition.face_locations(imgS)\n",
    "    encodesCurrFrames = face_recognition.face_encodings(imgS,facesCurrFrames)\n",
    "    \n",
    "    for encodeface,faceloc in zip(encodesCurrFrames,facesCurrFrames):\n",
    "        matches = face_recognition.compare_faces(encodelistKnown,encodeface)\n",
    "        facedis = face_recognition.face_distance(encodelistKnown,encodeface)\n",
    "        print(facedis)\n",
    "        matchIndex = np.argmin(facedis)\n",
    "        if matches[matchIndex]:\n",
    "            name = classNames[matchIndex].upper()\n",
    "            print(name)\n",
    "            y1,x2,y2,x1 = faceloc\n",
    "            y1,x2,y2,x1 = y1*4,x2*4,y2*4,x1*4\n",
    "            cv2.rectangle(img,(x1,y1),(x2,y2),(0,255,0),2)\n",
    "            cv2.rectangle(img,(x1,y2-35),(x2,y2),(0,255,0),cv2.FILLED)\n",
    "            cv2.putText(img,name,(x1+6,y2-6),cv2.FONT_HERSHEY_COMPLEX,1,(255,255,255),2)\n",
    "            markAttendance(name)\n",
    "    cv2.imshow('Webcam',img)\n",
    "    cv2.waitKey(1)"
   ]
  },
  {
   "cell_type": "code",
   "execution_count": null,
   "id": "16e088d5",
   "metadata": {},
   "outputs": [],
   "source": []
  }
 ],
 "metadata": {
  "kernelspec": {
   "display_name": "Python 3 (ipykernel)",
   "language": "python",
   "name": "python3"
  },
  "language_info": {
   "codemirror_mode": {
    "name": "ipython",
    "version": 3
   },
   "file_extension": ".py",
   "mimetype": "text/x-python",
   "name": "python",
   "nbconvert_exporter": "python",
   "pygments_lexer": "ipython3",
   "version": "3.9.12"
  }
 },
 "nbformat": 4,
 "nbformat_minor": 5
}
